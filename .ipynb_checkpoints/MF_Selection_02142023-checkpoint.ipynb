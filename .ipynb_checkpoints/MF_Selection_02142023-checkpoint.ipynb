{
 "cells": [
  {
   "cell_type": "code",
   "execution_count": 5,
   "id": "f1c2c55f",
   "metadata": {},
   "outputs": [
    {
     "name": "stdout",
     "output_type": "stream",
     "text": [
      "Collecting mlxtend\n",
      "  Downloading mlxtend-0.21.0-py2.py3-none-any.whl (1.3 MB)\n",
      "\u001b[2K     \u001b[90m━━━━━━━━━━━━━━━━━━━━━━━━━━━━━━━━━━━━━━━━\u001b[0m \u001b[32m1.3/1.3 MB\u001b[0m \u001b[31m13.2 MB/s\u001b[0m eta \u001b[36m0:00:00\u001b[0ma \u001b[36m0:00:01\u001b[0m\n",
      "\u001b[?25hRequirement already satisfied: setuptools in /Users/marceloxcoelho/opt/anaconda3/envs/DigitalAg_2023/lib/python3.9/site-packages (from mlxtend) (65.6.3)\n",
      "Requirement already satisfied: numpy>=1.16.2 in /Users/marceloxcoelho/opt/anaconda3/envs/DigitalAg_2023/lib/python3.9/site-packages (from mlxtend) (1.23.5)\n",
      "Requirement already satisfied: scikit-learn>=1.0.2 in /Users/marceloxcoelho/opt/anaconda3/envs/DigitalAg_2023/lib/python3.9/site-packages (from mlxtend) (1.2.0)\n",
      "Requirement already satisfied: joblib>=0.13.2 in /Users/marceloxcoelho/opt/anaconda3/envs/DigitalAg_2023/lib/python3.9/site-packages (from mlxtend) (1.1.1)\n",
      "Requirement already satisfied: matplotlib>=3.0.0 in /Users/marceloxcoelho/opt/anaconda3/envs/DigitalAg_2023/lib/python3.9/site-packages (from mlxtend) (3.6.2)\n",
      "Requirement already satisfied: scipy>=1.2.1 in /Users/marceloxcoelho/opt/anaconda3/envs/DigitalAg_2023/lib/python3.9/site-packages (from mlxtend) (1.9.3)\n",
      "Requirement already satisfied: pandas>=0.24.2 in /Users/marceloxcoelho/opt/anaconda3/envs/DigitalAg_2023/lib/python3.9/site-packages (from mlxtend) (1.5.2)\n",
      "Requirement already satisfied: pillow>=6.2.0 in /Users/marceloxcoelho/opt/anaconda3/envs/DigitalAg_2023/lib/python3.9/site-packages (from matplotlib>=3.0.0->mlxtend) (9.3.0)\n",
      "Requirement already satisfied: cycler>=0.10 in /Users/marceloxcoelho/opt/anaconda3/envs/DigitalAg_2023/lib/python3.9/site-packages (from matplotlib>=3.0.0->mlxtend) (0.11.0)\n",
      "Requirement already satisfied: contourpy>=1.0.1 in /Users/marceloxcoelho/opt/anaconda3/envs/DigitalAg_2023/lib/python3.9/site-packages (from matplotlib>=3.0.0->mlxtend) (1.0.5)\n",
      "Requirement already satisfied: packaging>=20.0 in /Users/marceloxcoelho/opt/anaconda3/envs/DigitalAg_2023/lib/python3.9/site-packages (from matplotlib>=3.0.0->mlxtend) (22.0)\n",
      "Requirement already satisfied: pyparsing>=2.2.1 in /Users/marceloxcoelho/opt/anaconda3/envs/DigitalAg_2023/lib/python3.9/site-packages (from matplotlib>=3.0.0->mlxtend) (3.0.9)\n",
      "Requirement already satisfied: fonttools>=4.22.0 in /Users/marceloxcoelho/opt/anaconda3/envs/DigitalAg_2023/lib/python3.9/site-packages (from matplotlib>=3.0.0->mlxtend) (4.25.0)\n",
      "Requirement already satisfied: kiwisolver>=1.0.1 in /Users/marceloxcoelho/opt/anaconda3/envs/DigitalAg_2023/lib/python3.9/site-packages (from matplotlib>=3.0.0->mlxtend) (1.4.4)\n",
      "Requirement already satisfied: python-dateutil>=2.7 in /Users/marceloxcoelho/opt/anaconda3/envs/DigitalAg_2023/lib/python3.9/site-packages (from matplotlib>=3.0.0->mlxtend) (2.8.2)\n",
      "Requirement already satisfied: pytz>=2020.1 in /Users/marceloxcoelho/opt/anaconda3/envs/DigitalAg_2023/lib/python3.9/site-packages (from pandas>=0.24.2->mlxtend) (2022.7)\n",
      "Requirement already satisfied: threadpoolctl>=2.0.0 in /Users/marceloxcoelho/opt/anaconda3/envs/DigitalAg_2023/lib/python3.9/site-packages (from scikit-learn>=1.0.2->mlxtend) (2.2.0)\n",
      "Requirement already satisfied: six>=1.5 in /Users/marceloxcoelho/opt/anaconda3/envs/DigitalAg_2023/lib/python3.9/site-packages (from python-dateutil>=2.7->matplotlib>=3.0.0->mlxtend) (1.16.0)\n",
      "Installing collected packages: mlxtend\n",
      "Successfully installed mlxtend-0.21.0\n",
      "Note: you may need to restart the kernel to use updated packages.\n"
     ]
    }
   ],
   "source": [
    "pip install mlxtend #to install this new package from github\n",
    "# Alternatively, you could download the package manually from the Python Package Index https://pypi.python.org/pypi/mlxtend, unzip it, navigate into the package, and use the command:\n",
    "# python setup.py install"
   ]
  },
  {
   "cell_type": "code",
   "execution_count": 30,
   "id": "a07085e7",
   "metadata": {},
   "outputs": [],
   "source": [
    "import numpy as np\n",
    "import pandas as pd\n",
    "from sklearn.ensemble import RandomForestClassifier\n",
    "from sklearn.model_selection import train_test_split\n",
    "from sklearn.metrics import accuracy_score as acc\n",
    "from mlxtend.feature_selection import SequentialFeatureSelector as sfs\n",
    "import os\n",
    "%matplotlib inline"
   ]
  },
  {
   "cell_type": "code",
   "execution_count": 41,
   "id": "fcbde553",
   "metadata": {},
   "outputs": [
    {
     "ename": "SyntaxError",
     "evalue": "unexpected EOF while parsing (1639833474.py, line 5)",
     "output_type": "error",
     "traceback": [
      "\u001b[0;36m  Cell \u001b[0;32mIn[41], line 5\u001b[0;36m\u001b[0m\n\u001b[0;31m    \u001b[0m\n\u001b[0m    ^\u001b[0m\n\u001b[0;31mSyntaxError\u001b[0m\u001b[0;31m:\u001b[0m unexpected EOF while parsing\n"
     ]
    }
   ],
   "source": [
    "dataset=pd.read_csv(os.path.abspath(os.pardir)+\"/HW3/winequality/'winequality-white.csv',sep=';'\"\n",
    "# Read data\n",
    "\n"
   ]
  },
  {
   "cell_type": "code",
   "execution_count": 42,
   "id": "299ccc17",
   "metadata": {},
   "outputs": [
    {
     "name": "stdout",
     "output_type": "stream",
     "text": [
      "Training dataset shape: (3673, 11) (3673,)\n",
      "Testing dataset shape: (1225, 11) (1225,)\n"
     ]
    }
   ],
   "source": [
    "# Train/test split\n",
    "X_train, X_test, y_train, y_test = train_test_split(\n",
    "    df.values[:,:-1],\n",
    "    df.values[:,-1:],\n",
    "    test_size=0.25,\n",
    "    random_state=42)\n",
    "\n",
    "y_train = y_train.ravel()\n",
    "y_test = y_test.ravel()\n",
    "\n",
    "print('Training dataset shape:', X_train.shape, y_train.shape)\n",
    "print('Testing dataset shape:', X_test.shape, y_test.shape)"
   ]
  }
 ],
 "metadata": {
  "kernelspec": {
   "display_name": "Python 3 (ipykernel)",
   "language": "python",
   "name": "python3"
  },
  "language_info": {
   "codemirror_mode": {
    "name": "ipython",
    "version": 3
   },
   "file_extension": ".py",
   "mimetype": "text/x-python",
   "name": "python",
   "nbconvert_exporter": "python",
   "pygments_lexer": "ipython3",
   "version": "3.9.16"
  }
 },
 "nbformat": 4,
 "nbformat_minor": 5
}
